{
    "metadata": {
        "kernelspec": {
            "name": "SQL",
            "display_name": "SQL",
            "language": "sql"
        },
        "language_info": {
            "name": "sql",
            "version": ""
        }
    },
    "nbformat_minor": 2,
    "nbformat": 4,
    "cells": [
        {
            "cell_type": "markdown",
            "source": [
                "# Resources \r\n",
                "- [Data Source](https://8weeksqlchallenge.com/case-study-2/)\r\n",
                "\r\n",
                "# Sub-querying \r\n",
                "- SELECT Clause \r\n",
                "- WHERE clause\r\n",
                "- FROM clause\r\n",
                "- Common Table Expressions\r\n",
                "\r\n",
                "## SELECT Clause Sub-querying \r\n",
                "- Return each order run along with its ranking based on distance traveled. The further the distance, the higher the ranking\r\n",
                "- Get the percentage of the total distance travelled that a specific order made up\r\n",
                "- Get the registration date with the runner order without using a join"
            ],
            "metadata": {
                "azdata_cell_guid": "4e470851-39e7-45d6-928f-781937a0195d"
            },
            "attachments": {}
        },
        {
            "cell_type": "code",
            "source": [
                "-- Get the ranking of each distance\r\n",
                "SELECT order_id, runner_id, distance, (\r\n",
                "    SELECT COUNT(*) + 1\r\n",
                "    FROM runner_orders\r\n",
                "    WHERE distance > r.distance\r\n",
                ")\r\n",
                "FROM runner_orders AS r"
            ],
            "metadata": {
                "azdata_cell_guid": "d1e9e2a9-ba30-4fee-8fe7-d99d0ee3a9de",
                "language": "sql"
            },
            "outputs": [
                {
                    "output_type": "display_data",
                    "data": {
                        "text/html": "(10 row(s) affected)"
                    },
                    "metadata": {}
                },
                {
                    "output_type": "display_data",
                    "data": {
                        "text/html": "Total execution time: 00:00:00.026"
                    },
                    "metadata": {}
                },
                {
                    "output_type": "execute_result",
                    "metadata": {},
                    "execution_count": 30,
                    "data": {
                        "application/vnd.dataresource+json": {
                            "schema": {
                                "fields": [
                                    {
                                        "name": "order_id"
                                    },
                                    {
                                        "name": "runner_id"
                                    },
                                    {
                                        "name": "distance"
                                    },
                                    {
                                        "name": "Column4"
                                    }
                                ]
                            },
                            "data": [
                                {
                                    "order_id": "3",
                                    "runner_id": "1",
                                    "distance": "13.4",
                                    "Column4": "6"
                                },
                                {
                                    "order_id": "4",
                                    "runner_id": "2",
                                    "distance": "23.4",
                                    "Column4": "2"
                                },
                                {
                                    "order_id": "5",
                                    "runner_id": "3",
                                    "distance": "10",
                                    "Column4": "7"
                                },
                                {
                                    "order_id": "1",
                                    "runner_id": "1",
                                    "distance": "20",
                                    "Column4": "4"
                                },
                                {
                                    "order_id": "2",
                                    "runner_id": "1",
                                    "distance": "20",
                                    "Column4": "4"
                                },
                                {
                                    "order_id": "7",
                                    "runner_id": "2",
                                    "distance": "25",
                                    "Column4": "1"
                                },
                                {
                                    "order_id": "8",
                                    "runner_id": "2",
                                    "distance": "23.4",
                                    "Column4": "2"
                                },
                                {
                                    "order_id": "10",
                                    "runner_id": "1",
                                    "distance": "10",
                                    "Column4": "7"
                                },
                                {
                                    "order_id": "6",
                                    "runner_id": "3",
                                    "distance": "NULL",
                                    "Column4": "1"
                                },
                                {
                                    "order_id": "9",
                                    "runner_id": "2",
                                    "distance": "NULL",
                                    "Column4": "1"
                                }
                            ]
                        },
                        "text/html": [
                            "<table>",
                            "<tr><th>order_id</th><th>runner_id</th><th>distance</th><th>Column4</th></tr>",
                            "<tr><td>3</td><td>1</td><td>13.4</td><td>6</td></tr>",
                            "<tr><td>4</td><td>2</td><td>23.4</td><td>2</td></tr>",
                            "<tr><td>5</td><td>3</td><td>10</td><td>7</td></tr>",
                            "<tr><td>1</td><td>1</td><td>20</td><td>4</td></tr>",
                            "<tr><td>2</td><td>1</td><td>20</td><td>4</td></tr>",
                            "<tr><td>7</td><td>2</td><td>25</td><td>1</td></tr>",
                            "<tr><td>8</td><td>2</td><td>23.4</td><td>2</td></tr>",
                            "<tr><td>10</td><td>1</td><td>10</td><td>7</td></tr>",
                            "<tr><td>6</td><td>3</td><td>NULL</td><td>1</td></tr>",
                            "<tr><td>9</td><td>2</td><td>NULL</td><td>1</td></tr>",
                            "</table>"
                        ]
                    }
                }
            ],
            "execution_count": 30
        },
        {
            "cell_type": "code",
            "source": [
                "-- Get the percentage of the total distance travelled that a specific order made up\r\n",
                "SELECT order_id, runner_id, distance, (\r\n",
                "    SELECT (SUM(distance) * r.distance) / 100\r\n",
                "    FROM runner_orders\r\n",
                ") AS \"Distance Percentage\"\r\n",
                "FROM runner_orders AS r"
            ],
            "metadata": {
                "azdata_cell_guid": "e25bb006-ef0e-4961-aa75-2e1c3be68bfc",
                "language": "sql"
            },
            "outputs": [
                {
                    "output_type": "display_data",
                    "data": {
                        "text/html": "(10 row(s) affected)"
                    },
                    "metadata": {}
                },
                {
                    "output_type": "display_data",
                    "data": {
                        "text/html": "Total execution time: 00:00:00.016"
                    },
                    "metadata": {}
                },
                {
                    "output_type": "execute_result",
                    "metadata": {},
                    "execution_count": 31,
                    "data": {
                        "application/vnd.dataresource+json": {
                            "schema": {
                                "fields": [
                                    {
                                        "name": "order_id"
                                    },
                                    {
                                        "name": "runner_id"
                                    },
                                    {
                                        "name": "distance"
                                    },
                                    {
                                        "name": "Distance Percentage"
                                    }
                                ]
                            },
                            "data": [
                                {
                                    "order_id": "3",
                                    "runner_id": "1",
                                    "distance": "13.4",
                                    "Distance Percentage": "19.456799999999998"
                                },
                                {
                                    "order_id": "4",
                                    "runner_id": "2",
                                    "distance": "23.4",
                                    "Distance Percentage": "33.9768"
                                },
                                {
                                    "order_id": "5",
                                    "runner_id": "3",
                                    "distance": "10",
                                    "Distance Percentage": "14.52"
                                },
                                {
                                    "order_id": "1",
                                    "runner_id": "1",
                                    "distance": "20",
                                    "Distance Percentage": "29.04"
                                },
                                {
                                    "order_id": "2",
                                    "runner_id": "1",
                                    "distance": "20",
                                    "Distance Percentage": "29.04"
                                },
                                {
                                    "order_id": "7",
                                    "runner_id": "2",
                                    "distance": "25",
                                    "Distance Percentage": "36.3"
                                },
                                {
                                    "order_id": "8",
                                    "runner_id": "2",
                                    "distance": "23.4",
                                    "Distance Percentage": "33.9768"
                                },
                                {
                                    "order_id": "10",
                                    "runner_id": "1",
                                    "distance": "10",
                                    "Distance Percentage": "14.52"
                                },
                                {
                                    "order_id": "6",
                                    "runner_id": "3",
                                    "distance": "NULL",
                                    "Distance Percentage": "NULL"
                                },
                                {
                                    "order_id": "9",
                                    "runner_id": "2",
                                    "distance": "NULL",
                                    "Distance Percentage": "NULL"
                                }
                            ]
                        },
                        "text/html": [
                            "<table>",
                            "<tr><th>order_id</th><th>runner_id</th><th>distance</th><th>Distance Percentage</th></tr>",
                            "<tr><td>3</td><td>1</td><td>13.4</td><td>19.456799999999998</td></tr>",
                            "<tr><td>4</td><td>2</td><td>23.4</td><td>33.9768</td></tr>",
                            "<tr><td>5</td><td>3</td><td>10</td><td>14.52</td></tr>",
                            "<tr><td>1</td><td>1</td><td>20</td><td>29.04</td></tr>",
                            "<tr><td>2</td><td>1</td><td>20</td><td>29.04</td></tr>",
                            "<tr><td>7</td><td>2</td><td>25</td><td>36.3</td></tr>",
                            "<tr><td>8</td><td>2</td><td>23.4</td><td>33.9768</td></tr>",
                            "<tr><td>10</td><td>1</td><td>10</td><td>14.52</td></tr>",
                            "<tr><td>6</td><td>3</td><td>NULL</td><td>NULL</td></tr>",
                            "<tr><td>9</td><td>2</td><td>NULL</td><td>NULL</td></tr>",
                            "</table>"
                        ]
                    }
                }
            ],
            "execution_count": 31
        },
        {
            "cell_type": "code",
            "source": [
                "-- Get the registration date with the runner order without using a join\r\n",
                "SELECT order_id, runner_id, distance, (\r\n",
                "    SELECT registration_date \r\n",
                "    FROM runners\r\n",
                "    WHERE r.runner_id = runner_id\r\n",
                ") \r\n",
                "FROM runner_orders AS r"
            ],
            "metadata": {
                "azdata_cell_guid": "f6cf769c-21d2-498f-9fdd-a95434db5ed6",
                "language": "sql"
            },
            "outputs": [
                {
                    "output_type": "display_data",
                    "data": {
                        "text/html": "(10 row(s) affected)"
                    },
                    "metadata": {}
                },
                {
                    "output_type": "display_data",
                    "data": {
                        "text/html": "Total execution time: 00:00:00.017"
                    },
                    "metadata": {}
                },
                {
                    "output_type": "execute_result",
                    "metadata": {},
                    "execution_count": 32,
                    "data": {
                        "application/vnd.dataresource+json": {
                            "schema": {
                                "fields": [
                                    {
                                        "name": "order_id"
                                    },
                                    {
                                        "name": "runner_id"
                                    },
                                    {
                                        "name": "distance"
                                    },
                                    {
                                        "name": "registration_date"
                                    }
                                ]
                            },
                            "data": [
                                {
                                    "order_id": "3",
                                    "runner_id": "1",
                                    "distance": "13.4",
                                    "registration_date": "2021-01-01"
                                },
                                {
                                    "order_id": "4",
                                    "runner_id": "2",
                                    "distance": "23.4",
                                    "registration_date": "2021-01-03"
                                },
                                {
                                    "order_id": "5",
                                    "runner_id": "3",
                                    "distance": "10",
                                    "registration_date": "2021-01-08"
                                },
                                {
                                    "order_id": "1",
                                    "runner_id": "1",
                                    "distance": "20",
                                    "registration_date": "2021-01-01"
                                },
                                {
                                    "order_id": "2",
                                    "runner_id": "1",
                                    "distance": "20",
                                    "registration_date": "2021-01-01"
                                },
                                {
                                    "order_id": "7",
                                    "runner_id": "2",
                                    "distance": "25",
                                    "registration_date": "2021-01-03"
                                },
                                {
                                    "order_id": "8",
                                    "runner_id": "2",
                                    "distance": "23.4",
                                    "registration_date": "2021-01-03"
                                },
                                {
                                    "order_id": "10",
                                    "runner_id": "1",
                                    "distance": "10",
                                    "registration_date": "2021-01-01"
                                },
                                {
                                    "order_id": "6",
                                    "runner_id": "3",
                                    "distance": "NULL",
                                    "registration_date": "2021-01-08"
                                },
                                {
                                    "order_id": "9",
                                    "runner_id": "2",
                                    "distance": "NULL",
                                    "registration_date": "2021-01-03"
                                }
                            ]
                        },
                        "text/html": [
                            "<table>",
                            "<tr><th>order_id</th><th>runner_id</th><th>distance</th><th>registration_date</th></tr>",
                            "<tr><td>3</td><td>1</td><td>13.4</td><td>2021-01-01</td></tr>",
                            "<tr><td>4</td><td>2</td><td>23.4</td><td>2021-01-03</td></tr>",
                            "<tr><td>5</td><td>3</td><td>10</td><td>2021-01-08</td></tr>",
                            "<tr><td>1</td><td>1</td><td>20</td><td>2021-01-01</td></tr>",
                            "<tr><td>2</td><td>1</td><td>20</td><td>2021-01-01</td></tr>",
                            "<tr><td>7</td><td>2</td><td>25</td><td>2021-01-03</td></tr>",
                            "<tr><td>8</td><td>2</td><td>23.4</td><td>2021-01-03</td></tr>",
                            "<tr><td>10</td><td>1</td><td>10</td><td>2021-01-01</td></tr>",
                            "<tr><td>6</td><td>3</td><td>NULL</td><td>2021-01-08</td></tr>",
                            "<tr><td>9</td><td>2</td><td>NULL</td><td>2021-01-03</td></tr>",
                            "</table>"
                        ]
                    }
                }
            ],
            "execution_count": 32
        },
        {
            "cell_type": "markdown",
            "source": [
                "## Where Clause Sub-querying \r\n",
                "- Get all of the orders that have been cancelled \r\n",
                "- Get all orders that wer further than the average distance \r\n",
                "- Return the order that had the furthest distance "
            ],
            "metadata": {
                "azdata_cell_guid": "c15f6d8b-b270-48b3-b767-0da25b308fbf"
            },
            "attachments": {}
        },
        {
            "cell_type": "code",
            "source": [
                "-- Get all of the orders that have been cancelled\r\n",
                "SELECT * \r\n",
                "FROM customer_orders AS co\r\n",
                "WHERE order_id IN (\r\n",
                "    SELECT order_id \r\n",
                "    FROM runner_orders\r\n",
                "    WHERE cancellation IS NOT NULL    \r\n",
                ")"
            ],
            "metadata": {
                "azdata_cell_guid": "e666d8cc-ab68-4461-a57c-082934460ea4",
                "language": "sql",
                "tags": []
            },
            "outputs": [
                {
                    "output_type": "display_data",
                    "data": {
                        "text/html": "(2 row(s) affected)"
                    },
                    "metadata": {}
                },
                {
                    "output_type": "display_data",
                    "data": {
                        "text/html": "Total execution time: 00:00:00.014"
                    },
                    "metadata": {}
                },
                {
                    "output_type": "execute_result",
                    "metadata": {},
                    "execution_count": 33,
                    "data": {
                        "application/vnd.dataresource+json": {
                            "schema": {
                                "fields": [
                                    {
                                        "name": "order_id"
                                    },
                                    {
                                        "name": "customer_id"
                                    },
                                    {
                                        "name": "pizza_id"
                                    },
                                    {
                                        "name": "exclusions"
                                    },
                                    {
                                        "name": "extras"
                                    },
                                    {
                                        "name": "order_time"
                                    }
                                ]
                            },
                            "data": [
                                {
                                    "order_id": "9",
                                    "customer_id": "103",
                                    "pizza_id": "1",
                                    "exclusions": "4",
                                    "extras": "1, 5",
                                    "order_time": "2020-01-10 11:22:59"
                                },
                                {
                                    "order_id": "6",
                                    "customer_id": "101",
                                    "pizza_id": "2",
                                    "exclusions": "NULL",
                                    "extras": "NULL",
                                    "order_time": "2020-01-08 21:03:13"
                                }
                            ]
                        },
                        "text/html": [
                            "<table>",
                            "<tr><th>order_id</th><th>customer_id</th><th>pizza_id</th><th>exclusions</th><th>extras</th><th>order_time</th></tr>",
                            "<tr><td>9</td><td>103</td><td>1</td><td>4</td><td>1, 5</td><td>2020-01-10 11:22:59</td></tr>",
                            "<tr><td>6</td><td>101</td><td>2</td><td>NULL</td><td>NULL</td><td>2020-01-08 21:03:13</td></tr>",
                            "</table>"
                        ]
                    }
                }
            ],
            "execution_count": 33
        },
        {
            "cell_type": "code",
            "source": [
                "-- Get furthest distance\r\n",
                "SELECT * \r\n",
                "FROM customer_orders AS co\r\n",
                "WHERE order_id = (\r\n",
                "    SELECT order_id\r\n",
                "    FROM runner_orders\r\n",
                "    ORDER BY distance DESC\r\n",
                "    LIMIT 1\r\n",
                ")"
            ],
            "metadata": {
                "azdata_cell_guid": "b400ed8f-fded-4b41-aa68-59dc8f65d962",
                "language": "sql"
            },
            "outputs": [
                {
                    "output_type": "display_data",
                    "data": {
                        "text/html": "(1 row(s) affected)"
                    },
                    "metadata": {}
                },
                {
                    "output_type": "display_data",
                    "data": {
                        "text/html": "Total execution time: 00:00:00.021"
                    },
                    "metadata": {}
                },
                {
                    "output_type": "execute_result",
                    "metadata": {},
                    "execution_count": 40,
                    "data": {
                        "application/vnd.dataresource+json": {
                            "schema": {
                                "fields": [
                                    {
                                        "name": "order_id"
                                    },
                                    {
                                        "name": "customer_id"
                                    },
                                    {
                                        "name": "pizza_id"
                                    },
                                    {
                                        "name": "exclusions"
                                    },
                                    {
                                        "name": "extras"
                                    },
                                    {
                                        "name": "order_time"
                                    }
                                ]
                            },
                            "data": [
                                {
                                    "order_id": "6",
                                    "customer_id": "101",
                                    "pizza_id": "2",
                                    "exclusions": "NULL",
                                    "extras": "NULL",
                                    "order_time": "2020-01-08 21:03:13"
                                }
                            ]
                        },
                        "text/html": [
                            "<table>",
                            "<tr><th>order_id</th><th>customer_id</th><th>pizza_id</th><th>exclusions</th><th>extras</th><th>order_time</th></tr>",
                            "<tr><td>6</td><td>101</td><td>2</td><td>NULL</td><td>NULL</td><td>2020-01-08 21:03:13</td></tr>",
                            "</table>"
                        ]
                    }
                }
            ],
            "execution_count": 40
        },
        {
            "cell_type": "markdown",
            "source": [
                "## FROM Clause sub-querying\r\n",
                "- Get the percentage of the total distance that an order made up, only show order that made up 10% or more of the total distance\r\n",
                "- Get the names of the last 5 pizzas that got cancelled\r\n",
                "- Get the name of the Pizza that gets cancelled the most"
            ],
            "metadata": {
                "azdata_cell_guid": "a7fb1403-7985-43a0-a627-0968e6f5f4e5"
            },
            "attachments": {}
        },
        {
            "cell_type": "code",
            "source": [
                "-- Get the difference between the pickup and order times for each order\r\n",
                "SELECT order_id, distance, pickup_time - order_time\r\n",
                "FROM (\r\n",
                "    SELECT CO.order_id, customer_id, distance, pickup_time, order_time\r\n",
                "    FROM customer_orders AS CO\r\n",
                "    INNER JOIN runner_orders\r\n",
                "    USING(order_id)\r\n",
                ") AS order_runner_time"
            ],
            "metadata": {
                "azdata_cell_guid": "9074c036-f49a-472b-82f3-5f2c944ff12c",
                "language": "sql"
            },
            "outputs": [
                {
                    "output_type": "display_data",
                    "data": {
                        "text/html": "(14 row(s) affected)"
                    },
                    "metadata": {}
                },
                {
                    "output_type": "display_data",
                    "data": {
                        "text/html": "Total execution time: 00:00:00.048"
                    },
                    "metadata": {}
                },
                {
                    "output_type": "execute_result",
                    "metadata": {},
                    "execution_count": 53,
                    "data": {
                        "application/vnd.dataresource+json": {
                            "schema": {
                                "fields": [
                                    {
                                        "name": "order_id"
                                    },
                                    {
                                        "name": "distance"
                                    },
                                    {
                                        "name": "Column3"
                                    }
                                ]
                            },
                            "data": [
                                {
                                    "order_id": "9",
                                    "distance": "NULL",
                                    "Column3": "NULL"
                                },
                                {
                                    "order_id": "10",
                                    "distance": "10",
                                    "Column3": "00:15:31"
                                },
                                {
                                    "order_id": "4",
                                    "distance": "23.4",
                                    "Column3": "00:29:17"
                                },
                                {
                                    "order_id": "4",
                                    "distance": "23.4",
                                    "Column3": "00:29:17"
                                },
                                {
                                    "order_id": "4",
                                    "distance": "23.4",
                                    "Column3": "00:29:17"
                                },
                                {
                                    "order_id": "5",
                                    "distance": "10",
                                    "Column3": "00:10:28"
                                },
                                {
                                    "order_id": "7",
                                    "distance": "25",
                                    "Column3": "00:10:16"
                                },
                                {
                                    "order_id": "6",
                                    "distance": "NULL",
                                    "Column3": "NULL"
                                },
                                {
                                    "order_id": "8",
                                    "distance": "23.4",
                                    "Column3": "00:20:29"
                                },
                                {
                                    "order_id": "10",
                                    "distance": "10",
                                    "Column3": "00:15:31"
                                },
                                {
                                    "order_id": "3",
                                    "distance": "13.4",
                                    "Column3": "00:21:14"
                                },
                                {
                                    "order_id": "1",
                                    "distance": "20",
                                    "Column3": "00:10:32"
                                },
                                {
                                    "order_id": "2",
                                    "distance": "20",
                                    "Column3": "00:10:02"
                                },
                                {
                                    "order_id": "3",
                                    "distance": "13.4",
                                    "Column3": "00:21:14"
                                }
                            ]
                        },
                        "text/html": [
                            "<table>",
                            "<tr><th>order_id</th><th>distance</th><th>Column3</th></tr>",
                            "<tr><td>9</td><td>NULL</td><td>NULL</td></tr>",
                            "<tr><td>10</td><td>10</td><td>00:15:31</td></tr>",
                            "<tr><td>4</td><td>23.4</td><td>00:29:17</td></tr>",
                            "<tr><td>4</td><td>23.4</td><td>00:29:17</td></tr>",
                            "<tr><td>4</td><td>23.4</td><td>00:29:17</td></tr>",
                            "<tr><td>5</td><td>10</td><td>00:10:28</td></tr>",
                            "<tr><td>7</td><td>25</td><td>00:10:16</td></tr>",
                            "<tr><td>6</td><td>NULL</td><td>NULL</td></tr>",
                            "<tr><td>8</td><td>23.4</td><td>00:20:29</td></tr>",
                            "<tr><td>10</td><td>10</td><td>00:15:31</td></tr>",
                            "<tr><td>3</td><td>13.4</td><td>00:21:14</td></tr>",
                            "<tr><td>1</td><td>20</td><td>00:10:32</td></tr>",
                            "<tr><td>2</td><td>20</td><td>00:10:02</td></tr>",
                            "<tr><td>3</td><td>13.4</td><td>00:21:14</td></tr>",
                            "</table>"
                        ]
                    }
                }
            ],
            "execution_count": 53
        },
        {
            "cell_type": "markdown",
            "source": [
                "## Common Table Expressions \r\n",
                "- Use CTE's for the statements from the `FROM` clause examples"
            ],
            "metadata": {
                "azdata_cell_guid": "5147aea6-e8b7-4bf5-a8e8-94dc0c4b9da3"
            },
            "attachments": {}
        },
        {
            "cell_type": "code",
            "source": [
                "WITH order_runner_time AS (\r\n",
                "    SELECT CO.order_id, customer_id, distance, pickup_time, order_time\r\n",
                "    FROM customer_orders AS CO\r\n",
                "    INNER JOIN runner_orders\r\n",
                "    USING(order_id)\r\n",
                ")\r\n",
                "SELECT order_id, distance\r\n",
                "FROM order_runner_time\r\n",
                ""
            ],
            "metadata": {
                "azdata_cell_guid": "09dcacda-a23b-4dc0-b5b0-69fa2a59ee78",
                "language": "sql"
            },
            "outputs": [
                {
                    "output_type": "display_data",
                    "data": {
                        "text/html": "(14 row(s) affected)"
                    },
                    "metadata": {}
                },
                {
                    "output_type": "display_data",
                    "data": {
                        "text/html": "Total execution time: 00:00:00.021"
                    },
                    "metadata": {}
                },
                {
                    "output_type": "execute_result",
                    "metadata": {},
                    "execution_count": 47,
                    "data": {
                        "application/vnd.dataresource+json": {
                            "schema": {
                                "fields": [
                                    {
                                        "name": "order_id"
                                    },
                                    {
                                        "name": "distance"
                                    }
                                ]
                            },
                            "data": [
                                {
                                    "order_id": "9",
                                    "distance": "NULL"
                                },
                                {
                                    "order_id": "10",
                                    "distance": "10"
                                },
                                {
                                    "order_id": "4",
                                    "distance": "23.4"
                                },
                                {
                                    "order_id": "4",
                                    "distance": "23.4"
                                },
                                {
                                    "order_id": "4",
                                    "distance": "23.4"
                                },
                                {
                                    "order_id": "5",
                                    "distance": "10"
                                },
                                {
                                    "order_id": "7",
                                    "distance": "25"
                                },
                                {
                                    "order_id": "6",
                                    "distance": "NULL"
                                },
                                {
                                    "order_id": "8",
                                    "distance": "23.4"
                                },
                                {
                                    "order_id": "10",
                                    "distance": "10"
                                },
                                {
                                    "order_id": "3",
                                    "distance": "13.4"
                                },
                                {
                                    "order_id": "1",
                                    "distance": "20"
                                },
                                {
                                    "order_id": "2",
                                    "distance": "20"
                                },
                                {
                                    "order_id": "3",
                                    "distance": "13.4"
                                }
                            ]
                        },
                        "text/html": [
                            "<table>",
                            "<tr><th>order_id</th><th>distance</th></tr>",
                            "<tr><td>9</td><td>NULL</td></tr>",
                            "<tr><td>10</td><td>10</td></tr>",
                            "<tr><td>4</td><td>23.4</td></tr>",
                            "<tr><td>4</td><td>23.4</td></tr>",
                            "<tr><td>4</td><td>23.4</td></tr>",
                            "<tr><td>5</td><td>10</td></tr>",
                            "<tr><td>7</td><td>25</td></tr>",
                            "<tr><td>6</td><td>NULL</td></tr>",
                            "<tr><td>8</td><td>23.4</td></tr>",
                            "<tr><td>10</td><td>10</td></tr>",
                            "<tr><td>3</td><td>13.4</td></tr>",
                            "<tr><td>1</td><td>20</td></tr>",
                            "<tr><td>2</td><td>20</td></tr>",
                            "<tr><td>3</td><td>13.4</td></tr>",
                            "</table>"
                        ]
                    }
                }
            ],
            "execution_count": 47
        },
        {
            "cell_type": "markdown",
            "source": [
                "# Aggregation\n",
                "- GROUP BY clause \n",
                "- HAVING clause \n",
                "\n",
                "## GROUP BY clause \n",
                "- Get the average distance travelled \n",
                "- Get the greatest and shortest distances travelled \n",
                "- Get the number of orders done on each day"
            ],
            "metadata": {
                "azdata_cell_guid": "96b97f1e-cca7-470e-94d7-078df58e8ef2"
            },
            "attachments": {}
        },
        {
            "cell_type": "code",
            "source": [
                "SELECT AVG(distance) AS average_distance\r\n",
                "FROM runner_orders"
            ],
            "metadata": {
                "azdata_cell_guid": "e556ecdb-25a9-4761-94b9-d4dbd0cbec70",
                "language": "sql"
            },
            "outputs": [
                {
                    "output_type": "display_data",
                    "data": {
                        "text/html": "(1 row(s) affected)"
                    },
                    "metadata": {}
                },
                {
                    "output_type": "display_data",
                    "data": {
                        "text/html": "Total execution time: 00:00:00.026"
                    },
                    "metadata": {}
                },
                {
                    "output_type": "execute_result",
                    "metadata": {},
                    "execution_count": 49,
                    "data": {
                        "application/vnd.dataresource+json": {
                            "schema": {
                                "fields": [
                                    {
                                        "name": "average_distance"
                                    }
                                ]
                            },
                            "data": [
                                {
                                    "average_distance": "18.15"
                                }
                            ]
                        },
                        "text/html": [
                            "<table>",
                            "<tr><th>average_distance</th></tr>",
                            "<tr><td>18.15</td></tr>",
                            "</table>"
                        ]
                    }
                }
            ],
            "execution_count": 49
        },
        {
            "cell_type": "code",
            "source": [
                "-- Get the average distance travelled per day \r\n",
                "SELECT EXTRACT(DAY FROM pickup_time) AS \"the day\", AVG(distance) AS average_distance\r\n",
                "FROM runner_orders\r\n",
                "GROUP BY EXTRACT(DAY FROM pickup_time)"
            ],
            "metadata": {
                "azdata_cell_guid": "3c853570-940d-4f3c-8285-7a552ab5cc84",
                "language": "sql",
                "tags": []
            },
            "outputs": [
                {
                    "output_type": "display_data",
                    "data": {
                        "text/html": "(7 row(s) affected)"
                    },
                    "metadata": {}
                },
                {
                    "output_type": "display_data",
                    "data": {
                        "text/html": "Total execution time: 00:00:00.028"
                    },
                    "metadata": {}
                },
                {
                    "output_type": "execute_result",
                    "metadata": {},
                    "execution_count": 58,
                    "data": {
                        "application/vnd.dataresource+json": {
                            "schema": {
                                "fields": [
                                    {
                                        "name": "the day"
                                    },
                                    {
                                        "name": "average_distance"
                                    }
                                ]
                            },
                            "data": [
                                {
                                    "the day": "NULL",
                                    "average_distance": "NULL"
                                },
                                {
                                    "the day": "3",
                                    "average_distance": "13.4"
                                },
                                {
                                    "the day": "1",
                                    "average_distance": "20"
                                },
                                {
                                    "the day": "4",
                                    "average_distance": "23.4"
                                },
                                {
                                    "the day": "10",
                                    "average_distance": "23.4"
                                },
                                {
                                    "the day": "8",
                                    "average_distance": "17.5"
                                },
                                {
                                    "the day": "11",
                                    "average_distance": "10"
                                }
                            ]
                        },
                        "text/html": [
                            "<table>",
                            "<tr><th>the day</th><th>average_distance</th></tr>",
                            "<tr><td>NULL</td><td>NULL</td></tr>",
                            "<tr><td>3</td><td>13.4</td></tr>",
                            "<tr><td>1</td><td>20</td></tr>",
                            "<tr><td>4</td><td>23.4</td></tr>",
                            "<tr><td>10</td><td>23.4</td></tr>",
                            "<tr><td>8</td><td>17.5</td></tr>",
                            "<tr><td>11</td><td>10</td></tr>",
                            "</table>"
                        ]
                    }
                }
            ],
            "execution_count": 58
        },
        {
            "cell_type": "markdown",
            "source": [
                "## HAVING clause \r\n",
                "- Get the days that had more than 2 orders \r\n",
                "- Get the runners with the most orders "
            ],
            "metadata": {
                "azdata_cell_guid": "180c8a2a-e108-428e-a92d-460fee6470c1"
            },
            "attachments": {}
        },
        {
            "cell_type": "code",
            "source": [
                "-- Get the average distance travelled per day \r\n",
                "SELECT EXTRACT(DAY FROM pickup_time) AS \"the day\", AVG(distance) AS average_distance\r\n",
                "FROM runner_orders\r\n",
                "GROUP BY EXTRACT(DAY FROM pickup_time)\r\n",
                "HAVING AVG(distance) < 15"
            ],
            "metadata": {
                "azdata_cell_guid": "c55da7c2-11fa-4122-8678-c591dab93048",
                "language": "sql"
            },
            "outputs": [
                {
                    "output_type": "display_data",
                    "data": {
                        "text/html": "(2 row(s) affected)"
                    },
                    "metadata": {}
                },
                {
                    "output_type": "display_data",
                    "data": {
                        "text/html": "Total execution time: 00:00:00.007"
                    },
                    "metadata": {}
                },
                {
                    "output_type": "execute_result",
                    "metadata": {},
                    "execution_count": 61,
                    "data": {
                        "application/vnd.dataresource+json": {
                            "schema": {
                                "fields": [
                                    {
                                        "name": "the day"
                                    },
                                    {
                                        "name": "average_distance"
                                    }
                                ]
                            },
                            "data": [
                                {
                                    "the day": "3",
                                    "average_distance": "13.4"
                                },
                                {
                                    "the day": "11",
                                    "average_distance": "10"
                                }
                            ]
                        },
                        "text/html": [
                            "<table>",
                            "<tr><th>the day</th><th>average_distance</th></tr>",
                            "<tr><td>3</td><td>13.4</td></tr>",
                            "<tr><td>11</td><td>10</td></tr>",
                            "</table>"
                        ]
                    }
                }
            ],
            "execution_count": 61
        }
    ]
}