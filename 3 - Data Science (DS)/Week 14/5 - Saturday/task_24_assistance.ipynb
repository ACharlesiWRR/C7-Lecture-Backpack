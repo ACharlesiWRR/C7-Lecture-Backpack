{
 "cells": [
  {
   "cell_type": "markdown",
   "metadata": {},
   "source": [
    "* XOR gates\n",
    "  * Combination of NAND, OR, and AND gates (hint hint ... task 1.3: xor_gate = ...)\n"
   ]
  },
  {
   "cell_type": "markdown",
   "metadata": {},
   "source": [
    "Siv:\n",
    "\n",
    "Its a matter of how creating the layer made of two gates and passing it through nor. This would be how you would execute it with the given structure\n",
    "\n",
    "* W1 = np.array([[w1(nor), w1(nand)], [w2(nor), w2(nand)]])\n",
    "* b1 = np.array([nor bias, nand bias])\n",
    "* W2 = np.array([[w1(and)], [w2(and)]])\n",
    "* b2 = np.array([bias (and)])"
   ]
  },
  {
   "cell_type": "code",
   "execution_count": 8,
   "metadata": {},
   "outputs": [],
   "source": [
    "import numpy as np\n",
    "import matplotlib.pyplot as plt"
   ]
  },
  {
   "cell_type": "code",
   "execution_count": 9,
   "metadata": {},
   "outputs": [],
   "source": [
    "def sigmoid(x):\n",
    "    return 1.0 / (1.0 + np.exp(-x))"
   ]
  },
  {
   "cell_type": "code",
   "execution_count": 10,
   "metadata": {},
   "outputs": [],
   "source": [
    "class Layer():\n",
    "\n",
    "  def __init__(self, W, b):\n",
    "    self.m = W.shape[0]\n",
    "    self.n = W.shape[1]\n",
    "    self.W = W\n",
    "    self.b = b\n",
    "\n",
    "  def activate(self, X):\n",
    "    z = np.dot(X, self.W) + self.b\n",
    "    return sigmoid(z)"
   ]
  },
  {
   "cell_type": "markdown",
   "metadata": {},
   "source": [
    "Input:\n",
    "| Input 1 | Input 2 |\n",
    "|---------|---------|\n",
    "| 1       | 1       |\n",
    "| 0       | 1       |\n",
    "| 1       | 0       |\n",
    "| 0       | 0       |\n",
    "\n",
    "Expected Output:\n",
    "| Output |\n",
    "|--------|\n",
    "| 0      |\n",
    "| 1      |\n",
    "| 1      |\n",
    "| 0      |"
   ]
  },
  {
   "cell_type": "code",
   "execution_count": null,
   "metadata": {},
   "outputs": [],
   "source": [
    "# NAND and OR gates weights and biases\n",
    "#W1 = np.array(...) # 4x2 dimensions\n",
    "#b1 = np.array(...) # 2x2 dimensions\n",
    "\n",
    "# AND gate weight and bias\n",
    "#W2 = np.array(...) # 2x1 dimensions\n",
    "#b2 = np.array(...) # 1x1 dimensions\n",
    "\n",
    "hidden_layer = Layer(W1, b1) # NAND and OR --> 4x2\n",
    "output_layer = Layer(W2, b2) # AND --> 2x1\n",
    "\n",
    "# Hidden layer\n",
    "# X is a 4x2 matrix\n",
    "# W1 is a 2x2 matrix\n",
    "# b1 is a 1x2 matrix\n",
    "\n",
    "# z1 = X . W1 + b1 --> (axb) . (bxc) = (axc), so column of X needs to equal row of W\n",
    "# z1 = (4x2) . (2x2) + (1x2)\n",
    "# z1 = (4x2) + (1x2)\n",
    "# z1 = (4x2)\n",
    "# a1 = sigmoid(z1)\n",
    "# a1 = (4x2)\n",
    "\n",
    "# Output layer\n",
    "# a1 is a 4x2 matrix\n",
    "# W2 is a ... matrix\n",
    "# b2 is a ... matrix\n",
    "\n",
    "# z2 = a1 . W2 + b2\n",
    "# z2 = (4x2) . (2x1) + (1x1)\n",
    "# z2 = (4x1) + (1x1)\n",
    "# z2 = (4x1)\n",
    "# a2 = sigmoid(z2)\n",
    "# a2 = (4x1)\n"
   ]
  },
  {
   "cell_type": "code",
   "execution_count": 6,
   "metadata": {},
   "outputs": [],
   "source": [
    "class Network():\n",
    "\n",
    "  def __init__(self, hidden, output):\n",
    "    self.hidden = hidden\n",
    "    self.output = output\n",
    "\n",
    "  def activate(self, X):\n",
    "    z = self.hidden.activate(X)\n",
    "    return self.output.activate(z)"
   ]
  },
  {
   "cell_type": "code",
   "execution_count": 7,
   "metadata": {},
   "outputs": [],
   "source": [
    "X = np.array(\n",
    "    [\n",
    "        [1, 1],\n",
    "        [0, 1],\n",
    "        [1, 0],\n",
    "        [0, 0]\n",
    "    ]\n",
    ") # Dimension 4 x 2"
   ]
  },
  {
   "cell_type": "code",
   "execution_count": null,
   "metadata": {},
   "outputs": [],
   "source": [
    "xor_gate = Network(hidden_layer, output_layer)\n",
    "\n",
    "xor_output = xor_gate.activate(X)\n",
    "np.round(xor_output)"
   ]
  }
 ],
 "metadata": {
  "kernelspec": {
   "display_name": "Python 3",
   "language": "python",
   "name": "python3"
  },
  "language_info": {
   "codemirror_mode": {
    "name": "ipython",
    "version": 3
   },
   "file_extension": ".py",
   "mimetype": "text/x-python",
   "name": "python",
   "nbconvert_exporter": "python",
   "pygments_lexer": "ipython3",
   "version": "3.11.6"
  }
 },
 "nbformat": 4,
 "nbformat_minor": 2
}
