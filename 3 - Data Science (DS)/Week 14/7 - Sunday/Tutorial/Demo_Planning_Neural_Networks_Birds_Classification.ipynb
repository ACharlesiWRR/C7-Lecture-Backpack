{
  "cells": [
    {
      "cell_type": "markdown",
      "metadata": {
        "id": "OufRH57GWh4G"
      },
      "source": [
        "# Building a Neural Network using Keras\n",
        "\n",
        "### Problem\n",
        "\n",
        "We have a dataset containing weight and wing length measurements of 168 birds in a rainforest. There are three species of interest in this study. Unfortunately, there was a data entry error: one of the researchers took all the necessary measurements of 20 birds, but did not include the species of these birds in his record. Returning to the rainforest to correct this mistake is expensive, both logistically and resource-wise. The team opts to use the complete data they already have on the other  148 birds to figure out what the species of these 20 birds could be.\n",
        "\n",
        "### Task\n",
        "\n",
        "Build a neural network to predict what species these 20 birds belong to."
      ]
    },
    {
      "cell_type": "markdown",
      "metadata": {
        "id": "IH3wdb__W41G"
      },
      "source": [
        "## Introduction\n",
        "\n",
        "In our initial exploration of this classification task, we built a basic neural network without any hyperparameter tuning. In this notebook, we will revisit this basic network configuration and additionally develop another neural network that has undergone hyperparameter tuning. By comparing these two models, we aim to evaluate their respective performances and highlight the impact of hyperparameter optimisation."
      ]
    },
    {
      "cell_type": "code",
      "execution_count": 1,
      "metadata": {
        "id": "XKupd_RjTAT-"
      },
      "outputs": [],
      "source": [
        "import pandas as pd\n",
        "import numpy as np\n",
        "import matplotlib.pyplot as plt\n",
        "import seaborn as sns\n",
        "\n",
        "import tensorflow as tf\n",
        "import keras\n",
        "from tensorflow.keras.models import Sequential\n",
        "from tensorflow.keras.layers import Dense\n",
        "from tensorflow.keras.regularizers import l2\n",
        "\n",
        "from sklearn.model_selection import train_test_split\n",
        "from sklearn.preprocessing import StandardScaler\n",
        "from sklearn.metrics import confusion_matrix, classification_report"
      ]
    },
    {
      "cell_type": "code",
      "execution_count": 2,
      "metadata": {},
      "outputs": [],
      "source": [
        "keras.utils.set_random_seed(1)"
      ]
    },
    {
      "cell_type": "code",
      "execution_count": 3,
      "metadata": {
        "colab": {
          "base_uri": "https://localhost:8080/",
          "height": 206
        },
        "id": "fKPOTrbZc36l",
        "outputId": "46cf25a1-0935-46e7-f1db-f6cf9b251046"
      },
      "outputs": [
        {
          "data": {
            "text/html": [
              "<div>\n",
              "<style scoped>\n",
              "    .dataframe tbody tr th:only-of-type {\n",
              "        vertical-align: middle;\n",
              "    }\n",
              "\n",
              "    .dataframe tbody tr th {\n",
              "        vertical-align: top;\n",
              "    }\n",
              "\n",
              "    .dataframe thead th {\n",
              "        text-align: right;\n",
              "    }\n",
              "</style>\n",
              "<table border=\"1\" class=\"dataframe\">\n",
              "  <thead>\n",
              "    <tr style=\"text-align: right;\">\n",
              "      <th></th>\n",
              "      <th>Firewing</th>\n",
              "      <th>Shadowhawk</th>\n",
              "      <th>Thunderbeaks</th>\n",
              "      <th>Wing</th>\n",
              "      <th>Weight</th>\n",
              "    </tr>\n",
              "  </thead>\n",
              "  <tbody>\n",
              "    <tr>\n",
              "      <th>0</th>\n",
              "      <td>1</td>\n",
              "      <td>0</td>\n",
              "      <td>0</td>\n",
              "      <td>0.372</td>\n",
              "      <td>0.915</td>\n",
              "    </tr>\n",
              "    <tr>\n",
              "      <th>1</th>\n",
              "      <td>1</td>\n",
              "      <td>0</td>\n",
              "      <td>0</td>\n",
              "      <td>0.371</td>\n",
              "      <td>1.160</td>\n",
              "    </tr>\n",
              "    <tr>\n",
              "      <th>2</th>\n",
              "      <td>1</td>\n",
              "      <td>0</td>\n",
              "      <td>0</td>\n",
              "      <td>0.469</td>\n",
              "      <td>1.001</td>\n",
              "    </tr>\n",
              "    <tr>\n",
              "      <th>3</th>\n",
              "      <td>1</td>\n",
              "      <td>0</td>\n",
              "      <td>0</td>\n",
              "      <td>0.262</td>\n",
              "      <td>1.020</td>\n",
              "    </tr>\n",
              "    <tr>\n",
              "      <th>4</th>\n",
              "      <td>1</td>\n",
              "      <td>0</td>\n",
              "      <td>0</td>\n",
              "      <td>0.375</td>\n",
              "      <td>0.950</td>\n",
              "    </tr>\n",
              "  </tbody>\n",
              "</table>\n",
              "</div>"
            ],
            "text/plain": [
              "   Firewing  Shadowhawk  Thunderbeaks   Wing  Weight\n",
              "0         1           0             0  0.372   0.915\n",
              "1         1           0             0  0.371   1.160\n",
              "2         1           0             0  0.469   1.001\n",
              "3         1           0             0  0.262   1.020\n",
              "4         1           0             0  0.375   0.950"
            ]
          },
          "execution_count": 3,
          "metadata": {},
          "output_type": "execute_result"
        }
      ],
      "source": [
        "data = pd.read_csv('Bird_Data_missing.txt', delimiter = ' ')\n",
        "data.head()"
      ]
    },
    {
      "cell_type": "code",
      "execution_count": 4,
      "metadata": {
        "id": "3Ehv1-mpUYnn"
      },
      "outputs": [],
      "source": [
        "# Getting the wing and weight measurements of incomplete records (the last 20 records)\n",
        "incomplete_records = data.iloc[148:,[3,4]]"
      ]
    },
    {
      "cell_type": "code",
      "execution_count": 5,
      "metadata": {
        "colab": {
          "base_uri": "https://localhost:8080/",
          "height": 206
        },
        "id": "Vnbf9L0h7CG5",
        "outputId": "c9ec8a19-66d4-47d7-8317-4edbe07d1714"
      },
      "outputs": [
        {
          "data": {
            "text/html": [
              "<div>\n",
              "<style scoped>\n",
              "    .dataframe tbody tr th:only-of-type {\n",
              "        vertical-align: middle;\n",
              "    }\n",
              "\n",
              "    .dataframe tbody tr th {\n",
              "        vertical-align: top;\n",
              "    }\n",
              "\n",
              "    .dataframe thead th {\n",
              "        text-align: right;\n",
              "    }\n",
              "</style>\n",
              "<table border=\"1\" class=\"dataframe\">\n",
              "  <thead>\n",
              "    <tr style=\"text-align: right;\">\n",
              "      <th></th>\n",
              "      <th>Firewing</th>\n",
              "      <th>Shadowhawk</th>\n",
              "      <th>Thunderbeaks</th>\n",
              "      <th>Wing</th>\n",
              "      <th>Weight</th>\n",
              "    </tr>\n",
              "  </thead>\n",
              "  <tbody>\n",
              "    <tr>\n",
              "      <th>143</th>\n",
              "      <td>0</td>\n",
              "      <td>0</td>\n",
              "      <td>1</td>\n",
              "      <td>0.273</td>\n",
              "      <td>0.530</td>\n",
              "    </tr>\n",
              "    <tr>\n",
              "      <th>144</th>\n",
              "      <td>0</td>\n",
              "      <td>0</td>\n",
              "      <td>1</td>\n",
              "      <td>0.243</td>\n",
              "      <td>0.334</td>\n",
              "    </tr>\n",
              "    <tr>\n",
              "      <th>145</th>\n",
              "      <td>0</td>\n",
              "      <td>0</td>\n",
              "      <td>1</td>\n",
              "      <td>0.194</td>\n",
              "      <td>0.163</td>\n",
              "    </tr>\n",
              "    <tr>\n",
              "      <th>146</th>\n",
              "      <td>0</td>\n",
              "      <td>0</td>\n",
              "      <td>1</td>\n",
              "      <td>0.145</td>\n",
              "      <td>0.320</td>\n",
              "    </tr>\n",
              "    <tr>\n",
              "      <th>147</th>\n",
              "      <td>0</td>\n",
              "      <td>0</td>\n",
              "      <td>1</td>\n",
              "      <td>0.225</td>\n",
              "      <td>0.325</td>\n",
              "    </tr>\n",
              "  </tbody>\n",
              "</table>\n",
              "</div>"
            ],
            "text/plain": [
              "     Firewing  Shadowhawk  Thunderbeaks   Wing  Weight\n",
              "143         0           0             1  0.273   0.530\n",
              "144         0           0             1  0.243   0.334\n",
              "145         0           0             1  0.194   0.163\n",
              "146         0           0             1  0.145   0.320\n",
              "147         0           0             1  0.225   0.325"
            ]
          },
          "execution_count": 5,
          "metadata": {},
          "output_type": "execute_result"
        }
      ],
      "source": [
        "# Using only the 148 birds with complete data for training\n",
        "data = data.iloc[:148,:]\n",
        "data.tail()"
      ]
    },
    {
      "cell_type": "code",
      "execution_count": 6,
      "metadata": {
        "id": "yAbm010P7D_P"
      },
      "outputs": [],
      "source": [
        "# Extracting features and labels\n",
        "X = data.loc[:, ['Wing', 'Weight']]\n",
        "y = data.loc[:, ['Firewing', 'Shadowhawk', 'Thunderbeaks']]"
      ]
    },
    {
      "cell_type": "code",
      "execution_count": 7,
      "metadata": {
        "id": "7-evV-MgS-Ep"
      },
      "outputs": [],
      "source": [
        "# Split the data into training, validation, and testing sets\n",
        "X_train_full, X_test, y_train_full, y_test = train_test_split(X, y, test_size=0.3, random_state=42)\n",
        "X_train, X_val, y_train, y_val = train_test_split(X_train_full, y_train_full, test_size=0.2, random_state=42)\n"
      ]
    },
    {
      "cell_type": "code",
      "execution_count": 8,
      "metadata": {
        "id": "X0uebO3m9pE8"
      },
      "outputs": [],
      "source": [
        "# Scale the features\n",
        "scaler = StandardScaler()\n",
        "X_train = scaler.fit_transform(X_train)\n",
        "X_val = scaler.transform(X_val)\n",
        "X_test = scaler.transform(X_test)"
      ]
    },
    {
      "cell_type": "markdown",
      "metadata": {
        "id": "2i9X-toaX6Ny"
      },
      "source": [
        "# Building a Neural Network with No Hyperparameter Tuning"
      ]
    },
    {
      "cell_type": "code",
      "execution_count": 9,
      "metadata": {
        "id": "n_AwpChpdFhg"
      },
      "outputs": [
        {
          "data": {
            "text/plain": [
              "<keras.src.callbacks.History at 0x3359b6b90>"
            ]
          },
          "execution_count": 9,
          "metadata": {},
          "output_type": "execute_result"
        }
      ],
      "source": [
        "# Define the Neural Network model\n",
        "model_no_tuning = Sequential()\n",
        "model_no_tuning.add(Dense(8, input_dim=2, activation='relu')) # hidden layer\n",
        "model_no_tuning.add(Dense(3, activation='softmax')) # output layer\n",
        "\n",
        "# Compile the model\n",
        "model_no_tuning.compile(loss='categorical_crossentropy', optimizer='adam', metrics=['accuracy'])\n",
        "\n",
        "# Train the model\n",
        "model_no_tuning.fit(X_train, y_train, epochs=50, verbose=0)"
      ]
    },
    {
      "cell_type": "code",
      "execution_count": 10,
      "metadata": {
        "colab": {
          "base_uri": "https://localhost:8080/"
        },
        "id": "6FLuv7U2dGUM",
        "outputId": "fd1167bb-9b71-4758-8b85-42e6a3df6abb"
      },
      "outputs": [
        {
          "name": "stdout",
          "output_type": "stream",
          "text": [
            "Accuracy of model with no tuning on validation set: 85.71%\n",
            "Accuracy of model with no tuning on test set: 77.78%\n"
          ]
        }
      ],
      "source": [
        "# Evaluate model on both validation and test sets\n",
        "loss_val, accuracy_val = model_no_tuning.evaluate(X_val, y_val, verbose=0)\n",
        "loss_test, accuracy_test = model_no_tuning.evaluate(X_test, y_test, verbose=0)\n",
        "\n",
        "print(f\"Accuracy of model with no tuning on validation set: {accuracy_val*100:.2f}%\")\n",
        "print(f\"Accuracy of model with no tuning on test set: {accuracy_test*100:.2f}%\")"
      ]
    },
    {
      "cell_type": "markdown",
      "metadata": {
        "id": "gPR3E8sNYRJV"
      },
      "source": [
        "# Building a Neural Network with Hyperparameter Tuning\n",
        "\n",
        " Because we will be testing out different combinations of hyperparameters to determine the optimal values to use, we will create a function that builds the neural network. We will simply call the function, build_neural_network(), for each iteration where we want to test out a different hyperparameter combination."
      ]
    },
    {
      "cell_type": "code",
      "execution_count": 11,
      "metadata": {
        "id": "f5nWNQvUTnP1"
      },
      "outputs": [],
      "source": [
        "# Function to build the model\n",
        "def build_neural_network(activation, reg_strength, num_nodes):\n",
        "    model = Sequential()\n",
        "    model.add(Dense(num_nodes, input_dim=2, activation=activation, kernel_regularizer=l2(reg_strength))) # Hidden layer\n",
        "    model.add(Dense(3, activation='softmax')) # Output layer\n",
        "    model.compile(optimizer='adam', loss='categorical_crossentropy', metrics=['accuracy'])\n",
        "    return model"
      ]
    },
    {
      "cell_type": "code",
      "execution_count": 12,
      "metadata": {
        "id": "UDMPYiCjA2wo"
      },
      "outputs": [],
      "source": [
        "# Set up hyperparameter grid\n",
        "param_grid = {\n",
        "    'neurons': [6, 8, 10, 12, 16],\n",
        "    'activation': ['relu', 'tanh', 'sigmoid'],\n",
        "    'reg_strength': [0.1, 0.01, 0.001, 0.0001, None]\n",
        "}\n",
        "\n",
        "# Initialise variables to track the best model\n",
        "best_accuracy = 0.0\n",
        "best_params = None\n",
        "best_model = None"
      ]
    },
    {
      "cell_type": "markdown",
      "metadata": {
        "id": "k3U_UyfSYs3u"
      },
      "source": [
        "The code below manually implements grid search logic to determine the best combination of hyperparameters for our problem."
      ]
    },
    {
      "cell_type": "code",
      "execution_count": 13,
      "metadata": {
        "colab": {
          "base_uri": "https://localhost:8080/"
        },
        "id": "C9F59N5fBEW4",
        "outputId": "d402a7ef-351f-462c-b01c-a94240b66dbe"
      },
      "outputs": [
        {
          "name": "stdout",
          "output_type": "stream",
          "text": [
            "Training model with 6 neurons, relu activation, and regularisation strength 0.1\n",
            "Accuracy on validation set: 100.00%\n",
            "Training model with 6 neurons, relu activation, and regularisation strength 0.01\n",
            "Accuracy on validation set: 80.95%\n",
            "Training model with 6 neurons, relu activation, and regularisation strength 0.001\n",
            "Accuracy on validation set: 85.71%\n",
            "Training model with 6 neurons, relu activation, and regularisation strength 0.0001\n",
            "WARNING:tensorflow:5 out of the last 7 calls to <function Model.make_test_function.<locals>.test_function at 0x34504ea20> triggered tf.function retracing. Tracing is expensive and the excessive number of tracings could be due to (1) creating @tf.function repeatedly in a loop, (2) passing tensors with different shapes, (3) passing Python objects instead of tensors. For (1), please define your @tf.function outside of the loop. For (2), @tf.function has reduce_retracing=True option that can avoid unnecessary retracing. For (3), please refer to https://www.tensorflow.org/guide/function#controlling_retracing and https://www.tensorflow.org/api_docs/python/tf/function for  more details.\n",
            "Accuracy on validation set: 85.71%\n",
            "Training model with 6 neurons, relu activation, and regularisation strength None\n",
            "WARNING:tensorflow:6 out of the last 8 calls to <function Model.make_test_function.<locals>.test_function at 0x3455f25c0> triggered tf.function retracing. Tracing is expensive and the excessive number of tracings could be due to (1) creating @tf.function repeatedly in a loop, (2) passing tensors with different shapes, (3) passing Python objects instead of tensors. For (1), please define your @tf.function outside of the loop. For (2), @tf.function has reduce_retracing=True option that can avoid unnecessary retracing. For (3), please refer to https://www.tensorflow.org/guide/function#controlling_retracing and https://www.tensorflow.org/api_docs/python/tf/function for  more details.\n",
            "Accuracy on validation set: 80.95%\n",
            "Training model with 6 neurons, tanh activation, and regularisation strength 0.1\n",
            "Accuracy on validation set: 85.71%\n",
            "Training model with 6 neurons, tanh activation, and regularisation strength 0.01\n",
            "Accuracy on validation set: 95.24%\n",
            "Training model with 6 neurons, tanh activation, and regularisation strength 0.001\n",
            "Accuracy on validation set: 85.71%\n",
            "Training model with 6 neurons, tanh activation, and regularisation strength 0.0001\n",
            "Accuracy on validation set: 90.48%\n",
            "Training model with 6 neurons, tanh activation, and regularisation strength None\n",
            "Accuracy on validation set: 85.71%\n",
            "Training model with 6 neurons, sigmoid activation, and regularisation strength 0.1\n",
            "Accuracy on validation set: 85.71%\n",
            "Training model with 6 neurons, sigmoid activation, and regularisation strength 0.01\n",
            "Accuracy on validation set: 85.71%\n",
            "Training model with 6 neurons, sigmoid activation, and regularisation strength 0.001\n",
            "Accuracy on validation set: 80.95%\n",
            "Training model with 6 neurons, sigmoid activation, and regularisation strength 0.0001\n",
            "Accuracy on validation set: 42.86%\n",
            "Training model with 6 neurons, sigmoid activation, and regularisation strength None\n",
            "Accuracy on validation set: 100.00%\n",
            "Training model with 8 neurons, relu activation, and regularisation strength 0.1\n",
            "Accuracy on validation set: 100.00%\n",
            "Training model with 8 neurons, relu activation, and regularisation strength 0.01\n",
            "Accuracy on validation set: 90.48%\n",
            "Training model with 8 neurons, relu activation, and regularisation strength 0.001\n",
            "Accuracy on validation set: 90.48%\n",
            "Training model with 8 neurons, relu activation, and regularisation strength 0.0001\n",
            "Accuracy on validation set: 85.71%\n",
            "Training model with 8 neurons, relu activation, and regularisation strength None\n",
            "Accuracy on validation set: 85.71%\n",
            "Training model with 8 neurons, tanh activation, and regularisation strength 0.1\n",
            "Accuracy on validation set: 85.71%\n",
            "Training model with 8 neurons, tanh activation, and regularisation strength 0.01\n",
            "Accuracy on validation set: 90.48%\n",
            "Training model with 8 neurons, tanh activation, and regularisation strength 0.001\n",
            "Accuracy on validation set: 95.24%\n",
            "Training model with 8 neurons, tanh activation, and regularisation strength 0.0001\n",
            "Accuracy on validation set: 85.71%\n",
            "Training model with 8 neurons, tanh activation, and regularisation strength None\n",
            "Accuracy on validation set: 95.24%\n",
            "Training model with 8 neurons, sigmoid activation, and regularisation strength 0.1\n",
            "Accuracy on validation set: 52.38%\n",
            "Training model with 8 neurons, sigmoid activation, and regularisation strength 0.01\n",
            "Accuracy on validation set: 61.90%\n",
            "Training model with 8 neurons, sigmoid activation, and regularisation strength 0.001\n",
            "Accuracy on validation set: 80.95%\n",
            "Training model with 8 neurons, sigmoid activation, and regularisation strength 0.0001\n",
            "Accuracy on validation set: 61.90%\n",
            "Training model with 8 neurons, sigmoid activation, and regularisation strength None\n",
            "Accuracy on validation set: 61.90%\n",
            "Training model with 10 neurons, relu activation, and regularisation strength 0.1\n",
            "Accuracy on validation set: 85.71%\n",
            "Training model with 10 neurons, relu activation, and regularisation strength 0.01\n",
            "Accuracy on validation set: 85.71%\n",
            "Training model with 10 neurons, relu activation, and regularisation strength 0.001\n",
            "Accuracy on validation set: 85.71%\n",
            "Training model with 10 neurons, relu activation, and regularisation strength 0.0001\n",
            "Accuracy on validation set: 85.71%\n",
            "Training model with 10 neurons, relu activation, and regularisation strength None\n",
            "Accuracy on validation set: 90.48%\n",
            "Training model with 10 neurons, tanh activation, and regularisation strength 0.1\n",
            "Accuracy on validation set: 85.71%\n",
            "Training model with 10 neurons, tanh activation, and regularisation strength 0.01\n",
            "Accuracy on validation set: 95.24%\n",
            "Training model with 10 neurons, tanh activation, and regularisation strength 0.001\n",
            "Accuracy on validation set: 90.48%\n",
            "Training model with 10 neurons, tanh activation, and regularisation strength 0.0001\n",
            "Accuracy on validation set: 85.71%\n",
            "Training model with 10 neurons, tanh activation, and regularisation strength None\n",
            "Accuracy on validation set: 100.00%\n",
            "Training model with 10 neurons, sigmoid activation, and regularisation strength 0.1\n",
            "Accuracy on validation set: 28.57%\n",
            "Training model with 10 neurons, sigmoid activation, and regularisation strength 0.01\n",
            "Accuracy on validation set: 100.00%\n",
            "Training model with 10 neurons, sigmoid activation, and regularisation strength 0.001\n",
            "Accuracy on validation set: 80.95%\n",
            "Training model with 10 neurons, sigmoid activation, and regularisation strength 0.0001\n",
            "Accuracy on validation set: 38.10%\n",
            "Training model with 10 neurons, sigmoid activation, and regularisation strength None\n",
            "Accuracy on validation set: 85.71%\n",
            "Training model with 12 neurons, relu activation, and regularisation strength 0.1\n",
            "Accuracy on validation set: 90.48%\n",
            "Training model with 12 neurons, relu activation, and regularisation strength 0.01\n",
            "Accuracy on validation set: 85.71%\n",
            "Training model with 12 neurons, relu activation, and regularisation strength 0.001\n",
            "Accuracy on validation set: 80.95%\n",
            "Training model with 12 neurons, relu activation, and regularisation strength 0.0001\n",
            "Accuracy on validation set: 85.71%\n",
            "Training model with 12 neurons, relu activation, and regularisation strength None\n",
            "Accuracy on validation set: 85.71%\n",
            "Training model with 12 neurons, tanh activation, and regularisation strength 0.1\n",
            "Accuracy on validation set: 90.48%\n",
            "Training model with 12 neurons, tanh activation, and regularisation strength 0.01\n",
            "Accuracy on validation set: 80.95%\n",
            "Training model with 12 neurons, tanh activation, and regularisation strength 0.001\n",
            "Accuracy on validation set: 90.48%\n",
            "Training model with 12 neurons, tanh activation, and regularisation strength 0.0001\n",
            "Accuracy on validation set: 85.71%\n",
            "Training model with 12 neurons, tanh activation, and regularisation strength None\n",
            "Accuracy on validation set: 100.00%\n",
            "Training model with 12 neurons, sigmoid activation, and regularisation strength 0.1\n",
            "Accuracy on validation set: 61.90%\n",
            "Training model with 12 neurons, sigmoid activation, and regularisation strength 0.01\n",
            "Accuracy on validation set: 85.71%\n",
            "Training model with 12 neurons, sigmoid activation, and regularisation strength 0.001\n",
            "Accuracy on validation set: 80.95%\n",
            "Training model with 12 neurons, sigmoid activation, and regularisation strength 0.0001\n",
            "Accuracy on validation set: 80.95%\n",
            "Training model with 12 neurons, sigmoid activation, and regularisation strength None\n",
            "Accuracy on validation set: 80.95%\n",
            "Training model with 16 neurons, relu activation, and regularisation strength 0.1\n",
            "Accuracy on validation set: 100.00%\n",
            "Training model with 16 neurons, relu activation, and regularisation strength 0.01\n",
            "Accuracy on validation set: 90.48%\n",
            "Training model with 16 neurons, relu activation, and regularisation strength 0.001\n",
            "Accuracy on validation set: 100.00%\n",
            "Training model with 16 neurons, relu activation, and regularisation strength 0.0001\n",
            "Accuracy on validation set: 85.71%\n",
            "Training model with 16 neurons, relu activation, and regularisation strength None\n",
            "Accuracy on validation set: 95.24%\n",
            "Training model with 16 neurons, tanh activation, and regularisation strength 0.1\n",
            "Accuracy on validation set: 85.71%\n",
            "Training model with 16 neurons, tanh activation, and regularisation strength 0.01\n",
            "Accuracy on validation set: 90.48%\n",
            "Training model with 16 neurons, tanh activation, and regularisation strength 0.001\n",
            "Accuracy on validation set: 90.48%\n",
            "Training model with 16 neurons, tanh activation, and regularisation strength 0.0001\n",
            "Accuracy on validation set: 95.24%\n",
            "Training model with 16 neurons, tanh activation, and regularisation strength None\n",
            "Accuracy on validation set: 90.48%\n",
            "Training model with 16 neurons, sigmoid activation, and regularisation strength 0.1\n",
            "Accuracy on validation set: 76.19%\n",
            "Training model with 16 neurons, sigmoid activation, and regularisation strength 0.01\n",
            "Accuracy on validation set: 85.71%\n",
            "Training model with 16 neurons, sigmoid activation, and regularisation strength 0.001\n",
            "Accuracy on validation set: 71.43%\n",
            "Training model with 16 neurons, sigmoid activation, and regularisation strength 0.0001\n",
            "Accuracy on validation set: 90.48%\n",
            "Training model with 16 neurons, sigmoid activation, and regularisation strength None\n",
            "Accuracy on validation set: 52.38%\n"
          ]
        }
      ],
      "source": [
        "# Iterate over the hyperparameter grid\n",
        "for neurons in param_grid['neurons']:\n",
        "    for activation in param_grid['activation']:\n",
        "        for reg_strength in param_grid['reg_strength']:\n",
        "\n",
        "            print(f\"Training model with {neurons} neurons, {activation} activation, and regularisation strength {reg_strength}\")\n",
        "\n",
        "            model = build_neural_network(activation=activation, reg_strength=reg_strength, num_nodes=neurons)\n",
        "            model.fit(X_train, y_train, epochs=50, batch_size=16, verbose=0)\n",
        "\n",
        "            loss, accuracy = model.evaluate(X_val, y_val, verbose=0)\n",
        "\n",
        "            print(f\"Accuracy on validation set: {accuracy*100:.2f}%\")\n",
        "\n",
        "            # Update the best model if the current one is better\n",
        "            if accuracy > best_accuracy:\n",
        "                best_accuracy = accuracy\n",
        "                best_params = {'neurons': neurons, 'activation': activation, 'reg_strength': reg_strength}\n",
        "                best_model = model"
      ]
    },
    {
      "cell_type": "code",
      "execution_count": 14,
      "metadata": {
        "colab": {
          "base_uri": "https://localhost:8080/"
        },
        "id": "IAHd76gDBhAA",
        "outputId": "1900b42e-be46-4346-ac04-d0178bd626ee"
      },
      "outputs": [
        {
          "name": "stdout",
          "output_type": "stream",
          "text": [
            "Best Model Results \n",
            "Neurons: 6 \n",
            "Activation: relu \n",
            "Reg Strength: 0.1 \n",
            "Accuracy on validation set: 100.00%\n"
          ]
        }
      ],
      "source": [
        "# Output details of optimal model\n",
        "print(f\"Best Model Results \\nNeurons: {best_params['neurons']} \\nActivation: {best_params['activation']} \\nReg Strength: {best_params['reg_strength']} \\nAccuracy on validation set: {best_accuracy * 100:.2f}%\")"
      ]
    },
    {
      "cell_type": "code",
      "execution_count": 15,
      "metadata": {
        "colab": {
          "base_uri": "https://localhost:8080/"
        },
        "id": "JJKNoWlREcJw",
        "outputId": "1c68c906-6ed5-4fb3-e03c-f36913f73bcd"
      },
      "outputs": [
        {
          "name": "stdout",
          "output_type": "stream",
          "text": [
            "Accuracy of model with hyperparameter tuning on test set: 86.67%\n"
          ]
        }
      ],
      "source": [
        "loss_best, accuracy_best = best_model.evaluate(X_test, y_test, verbose=0)\n",
        "print(f\"Accuracy of model with hyperparameter tuning on test set: {accuracy_best*100:.2f}%\")"
      ]
    },
    {
      "cell_type": "markdown",
      "metadata": {
        "id": "COliR0PjZD3U"
      },
      "source": [
        "## Comparison\n",
        "\n",
        "The test set accuracy of our basic model with no tuning was 78%. In contrast, our tuned model achieved an accuracy of 91% on the test set. It is evident that undergoing the process of hyperparameter optimisation was highly beneficial, yielding a more powerful and reliable model for predicting the species in incomplete records."
      ]
    },
    {
      "cell_type": "markdown",
      "metadata": {
        "id": "5uZEKWyiZ_Z6"
      },
      "source": [
        "## Further Evaluation of Best Model\n",
        "\n",
        "We will generate a confusion matrix to identify the incorrect predictions made by our best model."
      ]
    },
    {
      "cell_type": "code",
      "execution_count": 16,
      "metadata": {
        "colab": {
          "base_uri": "https://localhost:8080/",
          "height": 445
        },
        "id": "wf0a0i1aTwYf",
        "outputId": "c681bd35-8f8e-45c6-d91e-d88d92f47170"
      },
      "outputs": [
        {
          "name": "stdout",
          "output_type": "stream",
          "text": [
            "2/2 [==============================] - 0s 1ms/step\n"
          ]
        },
        {
          "data": {
            "text/plain": [
              "Text(0.5, 1.0, 'Confusion Matrix')"
            ]
          },
          "execution_count": 16,
          "metadata": {},
          "output_type": "execute_result"
        },
        {
          "data": {
            "image/png": "[encoded data removed]",
            "text/plain": [
              "<Figure size 500x400 with 2 Axes>"
            ]
          },
          "metadata": {},
          "output_type": "display_data"
        }
      ],
      "source": [
        "# Evaluate the best model\n",
        "y_pred = np.argmax(best_model.predict(X_test), axis=1)\n",
        "y_test_labels = np.argmax(y_test, axis=1)  # Convert one-hot encoded y_test to labels\n",
        "conf_matrix = confusion_matrix(y_test_labels, y_pred)\n",
        "\n",
        "# Plotting the confusion matrix\n",
        "plt.figure(figsize=(5, 4))\n",
        "sns.heatmap(conf_matrix, annot=True, cmap='Blues', xticklabels=['Firewing', 'Shadowhawk', 'Thunderbeaks'], yticklabels=['Firewing', 'Shadowhawk', 'Thunderbeaks'])\n",
        "plt.xlabel('Predicted')\n",
        "plt.ylabel('Actual')\n",
        "plt.title('Confusion Matrix')"
      ]
    },
    {
      "cell_type": "markdown",
      "metadata": {
        "id": "Nl-f6Gmiapn2"
      },
      "source": [
        "Our model incorrectly predicted that 4 birds belonged to the Shadowhawk species, when they were actually Thunderbeaks."
      ]
    }
  ],
  "metadata": {
    "colab": {
      "provenance": []
    },
    "kernelspec": {
      "display_name": "Python 3",
      "name": "python3"
    },
    "language_info": {
      "codemirror_mode": {
        "name": "ipython",
        "version": 3
      },
      "file_extension": ".py",
      "mimetype": "text/x-python",
      "name": "python",
      "nbconvert_exporter": "python",
      "pygments_lexer": "ipython3",
      "version": "3.11.6"
    }
  },
  "nbformat": 4,
  "nbformat_minor": 0
}
